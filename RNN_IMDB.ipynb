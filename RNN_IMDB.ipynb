{
  "nbformat": 4,
  "nbformat_minor": 0,
  "metadata": {
    "colab": {
      "name": "RNN_IMDB.ipynb",
      "provenance": [],
      "collapsed_sections": []
    },
    "kernelspec": {
      "display_name": "Python 3",
      "language": "python",
      "name": "python3"
    },
    "language_info": {
      "codemirror_mode": {
        "name": "ipython",
        "version": 3
      },
      "file_extension": ".py",
      "mimetype": "text/x-python",
      "name": "python",
      "nbconvert_exporter": "python",
      "pygments_lexer": "ipython3",
      "version": "3.7.6"
    }
  },
  "cells": [
    {
      "cell_type": "code",
      "metadata": {
        "id": "HXd4o-HZkHQN"
      },
      "source": [
        "import torch\n",
        "import torch.nn as nn\n",
        "import torch.nn.functional as F\n",
        "import os\n",
        "import numpy as np\n",
        "from matplotlib import pyplot as plt"
      ],
      "execution_count": 22,
      "outputs": []
    },
    {
      "cell_type": "code",
      "metadata": {
        "colab": {
          "base_uri": "https://localhost:8080/"
        },
        "id": "-jprChrLiWAh",
        "outputId": "8da83ee6-e078-42b2-f11e-4b0c237a569b"
      },
      "source": [
        "!pip install torchtext\n",
        "!python -m spacy download en"
      ],
      "execution_count": 2,
      "outputs": [
        {
          "output_type": "stream",
          "name": "stdout",
          "text": [
            "Requirement already satisfied: torchtext in /usr/local/lib/python3.7/dist-packages (0.11.0)\n",
            "Requirement already satisfied: numpy in /usr/local/lib/python3.7/dist-packages (from torchtext) (1.21.5)\n",
            "Requirement already satisfied: tqdm in /usr/local/lib/python3.7/dist-packages (from torchtext) (4.63.0)\n",
            "Requirement already satisfied: requests in /usr/local/lib/python3.7/dist-packages (from torchtext) (2.23.0)\n",
            "Requirement already satisfied: torch==1.10.0 in /usr/local/lib/python3.7/dist-packages (from torchtext) (1.10.0+cu111)\n",
            "Requirement already satisfied: typing-extensions in /usr/local/lib/python3.7/dist-packages (from torch==1.10.0->torchtext) (3.10.0.2)\n",
            "Requirement already satisfied: idna<3,>=2.5 in /usr/local/lib/python3.7/dist-packages (from requests->torchtext) (2.10)\n",
            "Requirement already satisfied: urllib3!=1.25.0,!=1.25.1,<1.26,>=1.21.1 in /usr/local/lib/python3.7/dist-packages (from requests->torchtext) (1.24.3)\n",
            "Requirement already satisfied: chardet<4,>=3.0.2 in /usr/local/lib/python3.7/dist-packages (from requests->torchtext) (3.0.4)\n",
            "Requirement already satisfied: certifi>=2017.4.17 in /usr/local/lib/python3.7/dist-packages (from requests->torchtext) (2021.10.8)\n",
            "Collecting en_core_web_sm==2.2.5\n",
            "  Downloading https://github.com/explosion/spacy-models/releases/download/en_core_web_sm-2.2.5/en_core_web_sm-2.2.5.tar.gz (12.0 MB)\n",
            "\u001b[K     |████████████████████████████████| 12.0 MB 4.4 MB/s \n",
            "\u001b[?25hRequirement already satisfied: spacy>=2.2.2 in /usr/local/lib/python3.7/dist-packages (from en_core_web_sm==2.2.5) (2.2.4)\n",
            "Requirement already satisfied: srsly<1.1.0,>=1.0.2 in /usr/local/lib/python3.7/dist-packages (from spacy>=2.2.2->en_core_web_sm==2.2.5) (1.0.5)\n",
            "Requirement already satisfied: thinc==7.4.0 in /usr/local/lib/python3.7/dist-packages (from spacy>=2.2.2->en_core_web_sm==2.2.5) (7.4.0)\n",
            "Requirement already satisfied: blis<0.5.0,>=0.4.0 in /usr/local/lib/python3.7/dist-packages (from spacy>=2.2.2->en_core_web_sm==2.2.5) (0.4.1)\n",
            "Requirement already satisfied: tqdm<5.0.0,>=4.38.0 in /usr/local/lib/python3.7/dist-packages (from spacy>=2.2.2->en_core_web_sm==2.2.5) (4.63.0)\n",
            "Requirement already satisfied: catalogue<1.1.0,>=0.0.7 in /usr/local/lib/python3.7/dist-packages (from spacy>=2.2.2->en_core_web_sm==2.2.5) (1.0.0)\n",
            "Requirement already satisfied: requests<3.0.0,>=2.13.0 in /usr/local/lib/python3.7/dist-packages (from spacy>=2.2.2->en_core_web_sm==2.2.5) (2.23.0)\n",
            "Requirement already satisfied: numpy>=1.15.0 in /usr/local/lib/python3.7/dist-packages (from spacy>=2.2.2->en_core_web_sm==2.2.5) (1.21.5)\n",
            "Requirement already satisfied: preshed<3.1.0,>=3.0.2 in /usr/local/lib/python3.7/dist-packages (from spacy>=2.2.2->en_core_web_sm==2.2.5) (3.0.6)\n",
            "Requirement already satisfied: cymem<2.1.0,>=2.0.2 in /usr/local/lib/python3.7/dist-packages (from spacy>=2.2.2->en_core_web_sm==2.2.5) (2.0.6)\n",
            "Requirement already satisfied: plac<1.2.0,>=0.9.6 in /usr/local/lib/python3.7/dist-packages (from spacy>=2.2.2->en_core_web_sm==2.2.5) (1.1.3)\n",
            "Requirement already satisfied: murmurhash<1.1.0,>=0.28.0 in /usr/local/lib/python3.7/dist-packages (from spacy>=2.2.2->en_core_web_sm==2.2.5) (1.0.6)\n",
            "Requirement already satisfied: wasabi<1.1.0,>=0.4.0 in /usr/local/lib/python3.7/dist-packages (from spacy>=2.2.2->en_core_web_sm==2.2.5) (0.9.0)\n",
            "Requirement already satisfied: setuptools in /usr/local/lib/python3.7/dist-packages (from spacy>=2.2.2->en_core_web_sm==2.2.5) (57.4.0)\n",
            "Requirement already satisfied: importlib-metadata>=0.20 in /usr/local/lib/python3.7/dist-packages (from catalogue<1.1.0,>=0.0.7->spacy>=2.2.2->en_core_web_sm==2.2.5) (4.11.2)\n",
            "Requirement already satisfied: typing-extensions>=3.6.4 in /usr/local/lib/python3.7/dist-packages (from importlib-metadata>=0.20->catalogue<1.1.0,>=0.0.7->spacy>=2.2.2->en_core_web_sm==2.2.5) (3.10.0.2)\n",
            "Requirement already satisfied: zipp>=0.5 in /usr/local/lib/python3.7/dist-packages (from importlib-metadata>=0.20->catalogue<1.1.0,>=0.0.7->spacy>=2.2.2->en_core_web_sm==2.2.5) (3.7.0)\n",
            "Requirement already satisfied: certifi>=2017.4.17 in /usr/local/lib/python3.7/dist-packages (from requests<3.0.0,>=2.13.0->spacy>=2.2.2->en_core_web_sm==2.2.5) (2021.10.8)\n",
            "Requirement already satisfied: urllib3!=1.25.0,!=1.25.1,<1.26,>=1.21.1 in /usr/local/lib/python3.7/dist-packages (from requests<3.0.0,>=2.13.0->spacy>=2.2.2->en_core_web_sm==2.2.5) (1.24.3)\n",
            "Requirement already satisfied: idna<3,>=2.5 in /usr/local/lib/python3.7/dist-packages (from requests<3.0.0,>=2.13.0->spacy>=2.2.2->en_core_web_sm==2.2.5) (2.10)\n",
            "Requirement already satisfied: chardet<4,>=3.0.2 in /usr/local/lib/python3.7/dist-packages (from requests<3.0.0,>=2.13.0->spacy>=2.2.2->en_core_web_sm==2.2.5) (3.0.4)\n",
            "\u001b[38;5;2m✔ Download and installation successful\u001b[0m\n",
            "You can now load the model via spacy.load('en_core_web_sm')\n",
            "\u001b[38;5;2m✔ Linking successful\u001b[0m\n",
            "/usr/local/lib/python3.7/dist-packages/en_core_web_sm -->\n",
            "/usr/local/lib/python3.7/dist-packages/spacy/data/en\n",
            "You can now load the model via spacy.load('en')\n"
          ]
        }
      ]
    },
    {
      "cell_type": "code",
      "metadata": {
        "id": "vpiI5vjUkHRW"
      },
      "source": [
        "import torch\n",
        "from torchtext.legacy import data\n",
        "\n",
        "SEED = 1234\n",
        "\n",
        "torch.manual_seed(SEED)\n",
        "torch.cuda.manual_seed(SEED)\n",
        "torch.backends.cudnn.deterministic = True\n",
        "\n",
        "TEXT = data.Field(tokenize='spacy')\n",
        "LABEL = data.LabelField(dtype=torch.float)"
      ],
      "execution_count": 3,
      "outputs": []
    },
    {
      "cell_type": "code",
      "metadata": {
        "colab": {
          "base_uri": "https://localhost:8080/"
        },
        "id": "MOCZ7pthkHRY",
        "outputId": "c7e44e16-7d4a-49c9-bd64-ec0a8e518dad"
      },
      "source": [
        "from torchtext.legacy import datasets\n",
        "train_data, test_data = datasets.IMDB.splits(TEXT, LABEL, root=\"./data\")"
      ],
      "execution_count": 4,
      "outputs": [
        {
          "output_type": "stream",
          "name": "stdout",
          "text": [
            "downloading aclImdb_v1.tar.gz\n"
          ]
        },
        {
          "output_type": "stream",
          "name": "stderr",
          "text": [
            "100%|██████████| 84.1M/84.1M [00:09<00:00, 8.75MB/s]\n"
          ]
        }
      ]
    },
    {
      "cell_type": "code",
      "metadata": {
        "colab": {
          "base_uri": "https://localhost:8080/"
        },
        "id": "U3Ow6Q3okHRf",
        "outputId": "56a76fec-f70a-4c66-f44f-7f2a76d50248"
      },
      "source": [
        "print(f'Number of training examples: {len(train_data)}')\n",
        "print(f'Number of testing examples: {len(test_data)}')"
      ],
      "execution_count": 5,
      "outputs": [
        {
          "output_type": "stream",
          "name": "stdout",
          "text": [
            "Number of training examples: 25000\n",
            "Number of testing examples: 25000\n"
          ]
        }
      ]
    },
    {
      "cell_type": "code",
      "metadata": {
        "colab": {
          "base_uri": "https://localhost:8080/"
        },
        "id": "zQquyqCEkHRk",
        "outputId": "984b10ef-e35e-4ab6-833a-d42441d93602"
      },
      "source": [
        "print(vars(train_data.examples[0]))"
      ],
      "execution_count": 6,
      "outputs": [
        {
          "output_type": "stream",
          "name": "stdout",
          "text": [
            "{'text': ['Emilio', 'Miraglio', \"'s\", '\"', 'The', 'Red', 'Queen', 'Kills', 'Seven', 'Times', '\"', '(', '1972', ')', 'is', 'just', 'about', 'the', 'most', 'perfect', 'example', 'of', 'a', 'giallo', 'that', 'I', 'have', 'ever', 'seen', ',', 'mixing', 'all', 'the', 'requisite', 'elements', 'into', 'one', 'sinister', 'stew', 'indeed', '.', 'First', 'of', 'all', ',', 'and', 'of', 'paramount', 'importance', 'for', 'me', ',', 'it', 'has', 'a', 'complex', ',', 'twisty', 'plot', 'that', 'ultimately', 'makes', 'perfect', 'sense', ',', 'and', 'the', 'killer', 'here', 'does', 'not', 'come', 'completely', 'out', 'of', 'left', 'field', 'at', 'the', 'end', '.', 'The', 'story', ',', 'concerning', 'a', 'series', 'of', 'gruesome', 'murders', '(', 'you', 'already', 'know', 'how', 'many', 'from', 'the', 'film', \"'s\", 'title', ',', 'right', '?', ')', 'that', 'takes', 'place', 'in', 'seeming', 'fulfillment', 'of', 'an', 'ancient', 'prophecy', 'concerning', 'two', 'sisters', ',', 'is', 'an', 'involving', 'one', ',', 'and', 'the', 'murderer', ',', 'a', 'red', '-', 'cloaked', 'figure', 'with', 'the', 'insane', 'laugh', 'of', 'a', 'madwoman', ',', 'is', 'both', 'frightening', 'and', 'memorable', '.', 'Every', 'great', 'giallo', 'requires', 'some', 'lovely', 'lead', 'actresses', ',', 'and', 'here', 'we', 'have', 'quite', 'an', 'assortment', ',', 'headed', 'by', 'the', 'ridiculously', 'beautiful', 'Barbara', 'Bouchet', 'as', 'one', 'of', 'the', 'two', 'sisters', 'and', ',', 'in', 'one', 'of', 'her', 'earlier', 'roles', ',', 'Sybil', 'Danning', ',', 'as', 'a', 'lustful', 'tramp', 'at', 'Barbara', \"'s\", 'fashion', 'house', '.', 'Another', 'necessary', 'ingredient', 'of', 'a', 'superior', 'giallo', 'is', 'a', 'catchy', ',', 'hummable', 'score', ',', 'and', 'Bruno', 'Nicolai', 'provides', 'one', 'for', 'this', 'film', 'that', 'should', 'stay', 'with', 'you', 'for', 'days', '.', 'Gorgeous', 'scenery', '?', 'Check', 'again', '.', 'Filmed', 'largely', 'in', 'Wurzburg', ',', 'Germany', ',', 'the', 'picture', 'is', 'a', 'treat', 'for', 'the', 'eye', 'indeed', '.', 'OK', ',', 'OK', ',', 'but', 'what', 'about', 'those', 'murders', '?', 'After', 'all', ',', 'is', \"n't\", 'that', 'what', 'gialli', 'are', 'all', 'about', '?', 'Well', ',', 'I', \"'m\", 'pleased', 'to', 'report', 'that', 'most', 'viewers', 'should', 'be', 'well', 'satisfied', 'with', 'the', 'various', 'knifings', ',', 'shootings', ',', 'impalements', 'and', 'other', 'carnage', 'that', 'this', 'film', 'tastefully', 'dishes', 'out', '...', 'not', 'to', 'mention', 'the', 'crypts', ',', 'freaky', 'dream', 'sequence', ',', 'rats', 'and', 'bats', '(', 'and', 'LOTS', 'of', \"'em\", ',', 'too', '!', ')', ',', 'the', 'drug', 'references', ',', 'a', 'rape', 'scene', ',', 'the', 'obligatory', 'red', 'herrings', 'and', ',', 'in', 'the', 'person', 'of', 'Ugo', 'Pagliai', ',', 'a', 'hunky', 'leading', 'man', 'for', 'the', 'female', 'viewers', '.', 'As', 'I', 'said', ',', 'a', 'perfect', 'giallo', '.', 'And', 'even', 'better', ',', 'this', 'DVD', 'is', 'from', 'the', 'fine', 'folks', 'at', 'No', 'Shame', ',', 'and', 'you', 'know', 'what', 'that', 'means', ':', 'a', 'gorgeous', 'print', 'and', 'loads', 'of', 'extras', ',', 'to', 'boot', '!', 'Thanks', ',', 'guys', '!'], 'label': 'pos'}\n"
          ]
        }
      ]
    },
    {
      "cell_type": "code",
      "metadata": {
        "id": "BufoUgSCkHRn"
      },
      "source": [
        "import random\n",
        "\n",
        "train_data, valid_data = train_data.split(random_state=random.seed(SEED))"
      ],
      "execution_count": 7,
      "outputs": []
    },
    {
      "cell_type": "code",
      "metadata": {
        "id": "f7amSe4ikHRp"
      },
      "source": [
        "#create dictionary\n",
        "TEXT.build_vocab(train_data, max_size=25000)\n",
        "LABEL.build_vocab(train_data)"
      ],
      "execution_count": 8,
      "outputs": []
    },
    {
      "cell_type": "code",
      "metadata": {
        "colab": {
          "base_uri": "https://localhost:8080/"
        },
        "id": "IWw3xa1gkHRr",
        "outputId": "d6788139-bc29-4a13-e333-8de174e6a519"
      },
      "source": [
        "print(f\"Unique tokens in TEXT vocabulary: {len(TEXT.vocab)}\")\n",
        "print(f\"Unique tokens in LABEL vocabulary: {len(LABEL.vocab)}\")"
      ],
      "execution_count": 9,
      "outputs": [
        {
          "output_type": "stream",
          "name": "stdout",
          "text": [
            "Unique tokens in TEXT vocabulary: 25002\n",
            "Unique tokens in LABEL vocabulary: 2\n"
          ]
        }
      ]
    },
    {
      "cell_type": "code",
      "metadata": {
        "colab": {
          "base_uri": "https://localhost:8080/"
        },
        "id": "Z-_ejTnFkHRx",
        "outputId": "3d6f67e3-1a13-45a5-d3c1-9fae6191e6a6"
      },
      "source": [
        "vars(LABEL.vocab)"
      ],
      "execution_count": 10,
      "outputs": [
        {
          "output_type": "execute_result",
          "data": {
            "text/plain": [
              "{'freqs': Counter({'neg': 8810, 'pos': 8690}),\n",
              " 'itos': ['neg', 'pos'],\n",
              " 'stoi': defaultdict(None, {'neg': 0, 'pos': 1}),\n",
              " 'unk_index': None,\n",
              " 'vectors': None}"
            ]
          },
          "metadata": {},
          "execution_count": 10
        }
      ]
    },
    {
      "cell_type": "code",
      "metadata": {
        "colab": {
          "base_uri": "https://localhost:8080/"
        },
        "id": "qxMRpe-hkHRz",
        "outputId": "c19dd3a8-cce6-48df-bd2a-5b6a594478dd"
      },
      "source": [
        "print(TEXT.vocab.freqs.most_common(20))"
      ],
      "execution_count": 11,
      "outputs": [
        {
          "output_type": "stream",
          "name": "stdout",
          "text": [
            "[('the', 203672), (',', 193693), ('.', 166634), ('a', 109927), ('and', 109350), ('of', 101241), ('to', 94274), ('is', 76710), ('in', 61284), ('I', 54630), ('it', 53894), ('that', 49323), ('\"', 44747), (\"'s\", 43545), ('this', 42543), ('-', 37119), ('/><br', 36166), ('was', 35143), ('as', 30566), ('with', 30059)]\n"
          ]
        }
      ]
    },
    {
      "cell_type": "markdown",
      "metadata": {
        "id": "1kPcwN6qkHR1"
      },
      "source": [
        "* stoi (string to int)\n",
        "* itos (int to string)"
      ]
    },
    {
      "cell_type": "code",
      "metadata": {
        "id": "qzyXSNLTkHR5"
      },
      "source": [
        "BATCH_SIZE = 64\n",
        "\n",
        "device = torch.device('cuda' if torch.cuda.is_available() else 'cpu')\n",
        "\n",
        "train_iterator, valid_iterator, test_iterator = data.BucketIterator.splits(\n",
        "    (train_data, valid_data, test_data), \n",
        "    batch_size=BATCH_SIZE,\n",
        "    device=device)"
      ],
      "execution_count": 12,
      "outputs": []
    },
    {
      "cell_type": "markdown",
      "metadata": {
        "id": "Z1NZqp-6kHR9"
      },
      "source": [
        "## Делаем модель"
      ]
    },
    {
      "cell_type": "code",
      "source": [
        "def accuracy(input, target):\n",
        "    max_input = torch.max(input, 1)\n",
        "    max_target = torch.max(target, 1)\n",
        "    corrects = (max_input.indices == max_target.indices).sum()\n",
        "    accuracy = 100.0 * corrects/input.shape[0]\n",
        "    return accuracy.item()"
      ],
      "metadata": {
        "id": "_6JxYLMXjR37"
      },
      "execution_count": 13,
      "outputs": []
    },
    {
      "cell_type": "code",
      "metadata": {
        "id": "HrizbizOkHR_"
      },
      "source": [
        "class RNN(nn.Module):\n",
        "    def __init__(self, input_dim, embedding_dim, hidden_dim, output_dim):\n",
        "        super().__init__()\n",
        "\n",
        "        self.input_dim = input_dim\n",
        "        self.embedding_dim = embedding_dim\n",
        "        self.hidden_dim = hidden_dim\n",
        "        self.output_dim = output_dim\n",
        "\n",
        "        self.embedding = nn.Embedding(self.input_dim, self.embedding_dim)\n",
        "        self.rnn = nn.RNN(self.embedding_dim, self.hidden_dim, 1)\n",
        "        self.fc = nn.Linear(self.hidden_dim, self.output_dim)\n",
        "        self.sig = nn.Softmax(dim=1)\n",
        "\n",
        "    def forward(self, X, hidden):\n",
        "        embedded =  self.embedding(X)\n",
        "        output, hidden = self.rnn(embedded, hidden)\n",
        "        output = self.fc(output)\n",
        "\n",
        "        return self.sig(output), hidden\n",
        "\n",
        "    def init_hidden(self, input):\n",
        "        self.batch_size = input.shape[1]\n",
        "        return torch.zeros(1, self.batch_size, self.hidden_dim)"
      ],
      "execution_count": 14,
      "outputs": []
    },
    {
      "cell_type": "code",
      "metadata": {
        "id": "1VgSCep3Bb_V"
      },
      "source": [
        "input_dim = 25002\n",
        "embedding_dim = 200\n",
        "hidden_dim = 50 \n",
        "output_dim = 2\n",
        "n_epochs = 3\n",
        "learning_rate = 10**(-5)"
      ],
      "execution_count": 27,
      "outputs": []
    },
    {
      "cell_type": "code",
      "metadata": {
        "id": "hMEIEiXs_XFa"
      },
      "source": [
        "import torch.optim as optim\n",
        "\n",
        "# Device\n",
        "device = torch.device(\"cuda:0\" if torch.cuda.is_available() else \"cpu\")\n",
        "\n",
        "# Model instance\n",
        "model = RNN(input_dim, embedding_dim, hidden_dim, output_dim)\n",
        "model = model.to(device)\n",
        "criterion = nn.CrossEntropyLoss()\n",
        "optimizer = optim.Adam(model.parameters(), lr=learning_rate)"
      ],
      "execution_count": 17,
      "outputs": []
    },
    {
      "cell_type": "code",
      "metadata": {
        "colab": {
          "base_uri": "https://localhost:8080/"
        },
        "id": "ctEOkK-6kHSB",
        "outputId": "de0b46a9-19da-461e-e7cf-8ebfca300aee"
      },
      "source": [
        "model.train()\n",
        "history = []\n",
        "\n",
        "for epoch in range(n_epochs):\n",
        "    iter = 0\n",
        "    train_acc = 0.0\n",
        "    for x in train_iterator:\n",
        "        iter += 1\n",
        "        optimizer.zero_grad()\n",
        "        inputs = x.text\n",
        "        labels = x.label\n",
        "        hidden = model.init_hidden(inputs)\n",
        "        outputs, hidden = model(inputs, hidden)\n",
        "        outputs = outputs.sum(0)\n",
        "\n",
        "        labels_1 = 1 - labels\n",
        "        labels = torch.cat((labels, labels_1), 0).reshape(2,labels.shape[0]).T\n",
        "\n",
        "        loss = criterion(outputs, labels)\n",
        "        loss.backward()\n",
        "        optimizer.step()\n",
        "\n",
        "        history.append(loss.item())\n",
        "        train_acc += accuracy(outputs, labels)\n",
        "    \n",
        "    print('Epoch:  %d | Loss: %.4f' %(epoch, torch.FloatTensor(history[-5:]).mean()))\n",
        "    print('Train Accuracy: ', train_acc/iter)"
      ],
      "execution_count": 28,
      "outputs": [
        {
          "output_type": "stream",
          "name": "stdout",
          "text": [
            "Epoch:  0 | Loss: 0.2743\n",
            "Train Accuracy:  86.73830160433359\n",
            "Epoch:  1 | Loss: 0.2860\n",
            "Train Accuracy:  87.834006789827\n",
            "Epoch:  2 | Loss: 0.3078\n",
            "Train Accuracy:  88.46780501316934\n"
          ]
        }
      ]
    },
    {
      "cell_type": "code",
      "metadata": {
        "id": "ujSQ5WSyC39i",
        "colab": {
          "base_uri": "https://localhost:8080/",
          "height": 621
        },
        "outputId": "7c9164f0-f62f-4c2a-f851-3478fa4148c7"
      },
      "source": [
        "plt.figure(figsize=(10, 10))\n",
        "plt.title(\"Training loss\")\n",
        "plt.xlabel(\"iteration\")\n",
        "plt.ylabel(\"loss\")\n",
        "plt.plot(history, 'b')\n",
        "plt.show()"
      ],
      "execution_count": 23,
      "outputs": [
        {
          "output_type": "display_data",
          "data": {
            "image/png": "[encoded data removed]",
            "text/plain": [
              "<Figure size 720x720 with 1 Axes>"
            ]
          },
          "metadata": {
            "needs_background": "light"
          }
        }
      ]
    },
    {
      "cell_type": "code",
      "metadata": {
        "id": "giDZ22kTK_Oo",
        "colab": {
          "base_uri": "https://localhost:8080/"
        },
        "outputId": "ecd35d7f-8a00-4182-eeb9-be0dbca3ce1f"
      },
      "source": [
        "test_acc = 0.0\n",
        "iter = 0\n",
        "\n",
        "model.eval()\n",
        "\n",
        "for x in test_iterator:\n",
        "    iter = iter + 1\n",
        "    inputs = x.text\n",
        "    labels = x.label\n",
        "    hidden = model.init_hidden(inputs)\n",
        "    outputs, hidden = model(inputs, hidden)\n",
        "    outputs = outputs.sum(0)\n",
        "    labels_1 = 1 - labels\n",
        "    labels = torch.cat((labels, labels_1), 0).reshape(2,labels.shape[0]).T\n",
        "\n",
        "    test_acc += accuracy(outputs, labels)\n",
        "\n",
        "print('Test Accuracy: %.2f'%( test_acc/iter))"
      ],
      "execution_count": 29,
      "outputs": [
        {
          "output_type": "stream",
          "name": "stdout",
          "text": [
            "Test Accuracy: 78.95\n"
          ]
        }
      ]
    }
  ]
}